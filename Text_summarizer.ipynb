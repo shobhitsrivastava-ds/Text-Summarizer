{
 "cells": [
  {
   "cell_type": "code",
   "execution_count": 180,
   "metadata": {},
   "outputs": [
    {
     "name": "stderr",
     "output_type": "stream",
     "text": [
      "[nltk_data] Downloading package punkt to /home/ubantu/nltk_data...\n",
      "[nltk_data]   Package punkt is already up-to-date!\n"
     ]
    }
   ],
   "source": [
    "# Importing the required libraries\n",
    "import numpy as np\n",
    "import pandas as pd\n",
    "import nltk\n",
    "nltk.download('punkt') # one time execution\n",
    "import re\n",
    "import os\n",
    "from sklearn.metrics.pairwise import cosine_similarity"
   ]
  },
  {
   "cell_type": "code",
   "execution_count": 181,
   "metadata": {},
   "outputs": [
    {
     "data": {
      "text/plain": [
       "['Text_summarizer.ipynb',\n",
       " 'glove.6B.zip.5',\n",
       " 'Untitled Folder',\n",
       " 'Untitled1.ipynb',\n",
       " '.ipynb_checkpoints',\n",
       " 'wget-log',\n",
       " 'glove.6B.zip.2',\n",
       " 'glove.6B.zip.5_FILES',\n",
       " 'wget-log.1',\n",
       " 'tennis_articles.csv',\n",
       " 'glove.6B.100d.txt',\n",
       " 'glove.6B.zip.4',\n",
       " 'text_summ.py',\n",
       " 'glove.6B.zip.3']"
      ]
     },
     "execution_count": 181,
     "metadata": {},
     "output_type": "execute_result"
    }
   ],
   "source": [
    "# Listing out the files and folder in the directories\n",
    "os.listdir(os.getcwd())"
   ]
  },
  {
   "cell_type": "code",
   "execution_count": 182,
   "metadata": {},
   "outputs": [],
   "source": [
    "# Reading the csv file\n",
    "df = pd.read_csv(\"tennis_articles.csv\")"
   ]
  },
  {
   "cell_type": "code",
   "execution_count": 183,
   "metadata": {},
   "outputs": [
    {
     "data": {
      "text/html": [
       "<div>\n",
       "<style scoped>\n",
       "    .dataframe tbody tr th:only-of-type {\n",
       "        vertical-align: middle;\n",
       "    }\n",
       "\n",
       "    .dataframe tbody tr th {\n",
       "        vertical-align: top;\n",
       "    }\n",
       "\n",
       "    .dataframe thead th {\n",
       "        text-align: right;\n",
       "    }\n",
       "</style>\n",
       "<table border=\"1\" class=\"dataframe\">\n",
       "  <thead>\n",
       "    <tr style=\"text-align: right;\">\n",
       "      <th></th>\n",
       "      <th>article_id</th>\n",
       "      <th>article_text</th>\n",
       "      <th>source</th>\n",
       "    </tr>\n",
       "  </thead>\n",
       "  <tbody>\n",
       "    <tr>\n",
       "      <th>0</th>\n",
       "      <td>1</td>\n",
       "      <td>Maria Sharapova has basically no friends as te...</td>\n",
       "      <td>https://www.tennisworldusa.org/tennis/news/Mar...</td>\n",
       "    </tr>\n",
       "    <tr>\n",
       "      <th>1</th>\n",
       "      <td>2</td>\n",
       "      <td>BASEL, Switzerland (AP), Roger Federer advance...</td>\n",
       "      <td>http://www.tennis.com/pro-game/2018/10/copil-s...</td>\n",
       "    </tr>\n",
       "    <tr>\n",
       "      <th>2</th>\n",
       "      <td>3</td>\n",
       "      <td>Roger Federer has revealed that organisers of ...</td>\n",
       "      <td>https://scroll.in/field/899938/tennis-roger-fe...</td>\n",
       "    </tr>\n",
       "    <tr>\n",
       "      <th>3</th>\n",
       "      <td>4</td>\n",
       "      <td>Kei Nishikori will try to end his long losing ...</td>\n",
       "      <td>http://www.tennis.com/pro-game/2018/10/nishiko...</td>\n",
       "    </tr>\n",
       "    <tr>\n",
       "      <th>4</th>\n",
       "      <td>5</td>\n",
       "      <td>Federer, 37, first broke through on tour over ...</td>\n",
       "      <td>https://www.express.co.uk/sport/tennis/1036101...</td>\n",
       "    </tr>\n",
       "  </tbody>\n",
       "</table>\n",
       "</div>"
      ],
      "text/plain": [
       "   article_id                                       article_text  \\\n",
       "0           1  Maria Sharapova has basically no friends as te...   \n",
       "1           2  BASEL, Switzerland (AP), Roger Federer advance...   \n",
       "2           3  Roger Federer has revealed that organisers of ...   \n",
       "3           4  Kei Nishikori will try to end his long losing ...   \n",
       "4           5  Federer, 37, first broke through on tour over ...   \n",
       "\n",
       "                                              source  \n",
       "0  https://www.tennisworldusa.org/tennis/news/Mar...  \n",
       "1  http://www.tennis.com/pro-game/2018/10/copil-s...  \n",
       "2  https://scroll.in/field/899938/tennis-roger-fe...  \n",
       "3  http://www.tennis.com/pro-game/2018/10/nishiko...  \n",
       "4  https://www.express.co.uk/sport/tennis/1036101...  "
      ]
     },
     "execution_count": 183,
     "metadata": {},
     "output_type": "execute_result"
    }
   ],
   "source": [
    "df.head()"
   ]
  },
  {
   "cell_type": "code",
   "execution_count": 184,
   "metadata": {},
   "outputs": [],
   "source": [
    "# Parsing the sentences\n",
    "from nltk.tokenize import sent_tokenize\n",
    "sentences = []\n",
    "for s in df['article_text']:\n",
    "    sentences.append(sent_tokenize(s))\n",
    "\n",
    "sentences = [y for x in sentences for y in x] # flatten list"
   ]
  },
  {
   "cell_type": "code",
   "execution_count": 185,
   "metadata": {},
   "outputs": [
    {
     "data": {
      "text/plain": [
       "['Maria Sharapova has basically no friends as tennis players on the WTA Tour.',\n",
       " \"The Russian player has no problems in openly speaking about it and in a recent interview she said: 'I don't really hide any feelings too much.\",\n",
       " 'I think everyone knows this is my job here.',\n",
       " \"When I'm on the courts or when I'm on the court playing, I'm a competitor and I want to beat every single person whether they're in the locker room or across the net.So I'm not the one to strike up a conversation about the weather and know that in the next few minutes I have to go and try to win a tennis match.\",\n",
       " \"I'm a pretty competitive girl.\",\n",
       " \"I say my hellos, but I'm not sending any players flowers as well.\",\n",
       " \"Uhm, I'm not really friendly or close to many players.\",\n",
       " \"I have not a lot of friends away from the courts.'\",\n",
       " 'When she said she is not really close to a lot of players, is that something strategic that she is doing?',\n",
       " \"Is it different on the men's tour than the women's tour?\",\n",
       " \"'No, not at all.\",\n",
       " \"I think just because you're in the same sport doesn't mean that you have to be friends with everyone just because you're categorized, you're a tennis player, so you're going to get along with tennis players.\",\n",
       " 'I think every person has different interests.',\n",
       " \"I have friends that have completely different jobs and interests, and I've met them in very different parts of my life.\",\n",
       " \"I think everyone just thinks because we're tennis players we should be the greatest of friends.\",\n",
       " 'But ultimately tennis is just a very small part of what we do.',\n",
       " \"There are so many other things that we're interested in, that we do.'\",\n",
       " 'BASEL, Switzerland (AP), Roger Federer advanced to the 14th Swiss Indoors final of his career by beating seventh-seeded Daniil Medvedev 6-1, 6-4 on Saturday.',\n",
       " 'Seeking a ninth title at his hometown event, and a 99th overall, Federer will play 93th-ranked Marius Copil on Sunday.',\n",
       " 'Federer dominated the 20th-ranked Medvedev and had his first match-point chance to break serve again at 5-1.',\n",
       " \"He then dropped his serve to love, and let another match point slip in Medvedev's next service game by netting a backhand.\",\n",
       " 'He clinched on his fourth chance when Medvedev netted from the baseline.',\n",
       " 'Copil upset expectations of a Federer final against Alexander Zverev in a 6-3, 6-7 (6), 6-4 win over the fifth-ranked German in the earlier semifinal.',\n",
       " 'The Romanian aims for a first title after arriving at Basel without a career win over a top-10 opponent.',\n",
       " 'Copil has two after also beating No.',\n",
       " '6 Marin Cilic in the second round.',\n",
       " 'Copil fired 26 aces past Zverev and never dropped serve, clinching after 2 1/2 hours with a forehand volley winner to break Zverev for the second time in the semifinal.',\n",
       " \"He came through two rounds of qualifying last weekend to reach the Basel main draw, including beating Zverev's older brother, Mischa.\",\n",
       " 'Federer had an easier time than in his only previous match against Medvedev, a three-setter at Shanghai two weeks ago.',\n",
       " 'Roger Federer has revealed that organisers of the re-launched and condensed Davis Cup gave him three days to decide if he would commit to the controversial competition.',\n",
       " 'Speaking at the Swiss Indoors tournament where he will play in Sundays final against Romanian qualifier Marius Copil, the world number three said that given the impossibly short time frame to make a decision, he opted out of any commitment.',\n",
       " '\"They only left me three days to decide\", Federer said.',\n",
       " '\"I didn\\'t to have time to consult with all the people I had to consult.',\n",
       " '\"I could not make a decision in that time, so I told them to do what they wanted.\"',\n",
       " 'The 20-time Grand Slam champion has voiced doubts about the wisdom of the one-week format to be introduced by organisers Kosmos, who have promised the International Tennis Federation up to $3 billion in prize money over the next quarter-century.',\n",
       " 'The competition is set to feature 18 countries in the November 18-24 finals in Madrid next year, and will replace the classic home-and-away ties played four times per year for decades.',\n",
       " 'Kosmos is headed by Barcelona footballer Gerard Pique, who is hoping fellow Spaniard Rafael Nadal will play in the upcoming event.',\n",
       " \"Novak Djokovic has said he will give precedence to the ATP's intended re-launch of the defunct World Team Cup in January 2020, at various Australian venues.\",\n",
       " 'Major players feel that a big event in late November combined with one in January before the Australian Open will mean too much tennis and too little rest.',\n",
       " 'Federer said earlier this month in Shanghai in that his chances of playing the Davis Cup were all but non-existent.',\n",
       " '\"I highly doubt it, of course.',\n",
       " 'We will see what happens,\" he said.',\n",
       " '\"I do not think this was designed for me, anyhow.',\n",
       " 'This was designed for the future generation of players.\"',\n",
       " 'Argentina and Britain received wild cards to the new-look event, and will compete along with the four 2018 semi-finalists and the 12 teams who win qualifying rounds next February.',\n",
       " '\"I don\\'t like being under that kind of pressure,\" Federer said of the deadline Kosmos handed him.',\n",
       " 'Kei Nishikori will try to end his long losing streak in ATP finals and Kevin Anderson will go for his second title of the year at the Erste Bank Open on Sunday.',\n",
       " 'The fifth-seeded Nishikori reached his third final of 2018 after beating Mikhail Kukushkin of Kazakhstan 6-4, 6-3 in the semifinals.',\n",
       " \"A winner of 11 ATP events, Nishikori hasn't triumphed since winning in Memphis in February 2016.\",\n",
       " 'He has lost eight straight finals since.',\n",
       " 'The second-seeded Anderson defeated Fernando Verdasco 6-3, 3-6, 6-4.',\n",
       " 'Anderson has a shot at a fifth career title and second of the year after winning in New York in February.',\n",
       " 'Nishikori leads Anderson 4-2 on career matchups, but the South African won their only previous meeting this year.',\n",
       " 'With a victory on Sunday, Anderson will qualify for the ATP Finals.',\n",
       " 'Currently in ninth place, Nishikori with a win could move to within 125 points of the cut for the eight-man event in London next month.',\n",
       " 'Nishikori held serve throughout against Kukushkin, who came through qualifying.',\n",
       " 'He used his first break point to close out the first set before going up 3-0 in the second and wrapping up the win on his first match point.',\n",
       " 'Against Verdasco, Anderson hit nine of his 19 aces in the opening set.',\n",
       " \"The Spaniard broke Anderson twice in the second but didn't get another chance on the South African's serve in the final set.\",\n",
       " 'Federer, 37, first broke through on tour over two decades ago and he has since gone on to enjoy a glittering career.',\n",
       " 'The 20-time Grand Slam winner is chasing his 99th ATP title at the Swiss Indoors this week and he faces Jan-Lennard Struff in the second round on Thursday (6pm BST).',\n",
       " 'Davenport enjoyed most of her success in the late 1990s and her third and final major tournament win came at the 2000 Australian Open.',\n",
       " 'But she claims the mentality of professional tennis players slowly began to change after the new millennium.',\n",
       " '\"It seems pretty friendly right now,\" said Davenport.',\n",
       " '\"I think there is a really nice environment and a great atmosphere, especially between some of the veteran players helping some of the younger players out.',\n",
       " '\"It\\'s a very pleasant atmosphere, I\\'d have to say, around the locker rooms.',\n",
       " '\"I felt like the best weeks that I had to get to know players when I was playing were the Fed Cup weeks or the Olympic weeks, not necessarily during the tournaments.',\n",
       " '\"And even though maybe we had smaller teams, I still think we kept to ourselves quite a bit.',\n",
       " '\"Not always, but I really feel like in the mid-2000 years there was a huge shift of the attitudes of the top players and being more friendly and being more giving, and a lot of that had to do with players like Roger coming up.',\n",
       " '\"I just felt like it really kind of changed where people were a little bit, definitely in the 90s, a lot more quiet, into themselves, and then it started to become better.\"',\n",
       " 'Meanwhile, Federer is hoping he can improve his service game as he hunts his ninth Swiss Indoors title this week.',\n",
       " '\"I didn\\'t serve very well [against first-round opponent Filip Kranjovic,\" Federer said.',\n",
       " '\"I think I was misfiring the corners, I was not hitting the lines enough.',\n",
       " '\"Clearly you make your life more difficult, but still I was up 6-2, 3-1, break points, so things could have ended very quickly today, even though I didn\\'t have the best serve percentage stats.',\n",
       " '\"But maybe that\\'s exactly what caught up to me eventually.',\n",
       " \"It's just getting used to it.\",\n",
       " 'This is where the first rounds can be tricky.\"',\n",
       " 'Nadal has not played tennis since he was forced to retire from the US Open semi-finals against Juan Martin Del Porto with a knee injury.',\n",
       " \"The world No 1 has been forced to miss Spain's Davis Cup clash with France and the Asian hard court season.\",\n",
       " 'But with the ATP World Tour Finals due to begin next month, Nadal is ready to prove his fitness before the season-ending event at the 02 Arena.',\n",
       " 'Nadal flew to Paris on Friday and footage from the Paris Masters official Twitter account shows the Spaniard smiling as he strides onto court for practice.',\n",
       " 'The Paris Masters draw has been made and Nadal will start his campaign on Tuesday or Wednesday against either Fernando Verdasco or Jeremy Chardy.',\n",
       " 'Nadal could then play defending champion Jack Sock in the third round before a potential quarter-final with either Borna Coric or Dominic Thiem.',\n",
       " \"Nadal's appearance in Paris is a big boost to the tournament organisers who could see Roger Federer withdraw.\",\n",
       " 'Federer is in action at the Swiss Indoors in Basel and if he reaches the final, he could pull out of Paris in a bid to stay fresh for London.',\n",
       " 'But as it stands, Federer is in the draw and is scheduled to face either former world No 3 Milos Raonic or Jo-Wilfried Tsonga in the second round.',\n",
       " \"Federer's projected route to the Paris final could also lead to matches against Kevin Anderson and Novak Djokovic.\",\n",
       " 'Djokovic could play Marco Cecchinato in the second round.',\n",
       " 'British No 1 Kyle Edmund is the 12th seed in Paris and will get underway in round two against either Karen Khachanov or Filip Krajinovic.',\n",
       " 'Tennis giveth, and tennis taketh away.',\n",
       " 'The end of the season is finally in sight, and with so many players defending,or losing,huge chunks of points in Singapore, Zhuhai and London, podcast co-hosts Nina Pantic and Irina Falconi discuss the art of defending points (02:14).',\n",
       " \"It's no secret that Jack Sock has struggled on the singles court this year (his record is 7-19).\",\n",
       " 'He could lose 1,400 points in the next few weeks, but instead of focusing on the negative, it can all be about perspective (06:28).',\n",
       " \"Let's also not forget his two Grand Slam doubles triumphs this season.\",\n",
       " 'Two players, Stefanos Tsitsipas and Kyle Edmund, won their first career ATP titles last week (13:26).',\n",
       " \"It's a big deal because you never forget your first.\",\n",
       " 'Irina looks back at her WTA title win in Bogota in 2016, and tells an unforgettable story about her semifinal drama (14:04).',\n",
       " 'In Singapore, one of the biggest storylines (aside from the matches, of course) has been the on-court coaching debate.',\n",
       " 'Nina and Irina give their opinions on what coaching should look like in the future, on both tours (18:55).',\n",
       " 'Federer won the Swiss Indoors last week by beating Romanian qualifier Marius Copil in the final.',\n",
       " 'The 37-year-old claimed his 99th ATP title and is hunting the century in the French capital this week.',\n",
       " 'Federer has been handed a difficult draw where could could come across Kevin Anderson, Novak Djokovic and Rafael Nadal in the latter rounds.',\n",
       " 'But first the 20-time Grand Slam winner wants to train on the Paris Masters court this afternoon before deciding whether to appear for his opening match against either Milos Raonic or Jo-Wilfried Tsonga.',\n",
       " '\"On Monday, I am free and will look how I feel,\" Federer said after winning the Swiss Indoors.',\n",
       " '\"On Tuesday I will fly to Paris and train in the afternoon to be ready for my first match on Wednesday night.',\n",
       " '\"I felt good all week and better every day.',\n",
       " '\"We also had the impression that at this stage it might be better to play matches than to train.',\n",
       " '\"And as long as I fear no injury, I play.\"',\n",
       " \"Federer's success in Basel last week was the ninth time he has won his hometown tournament.\",\n",
       " 'And he was delighted to be watched on by all of his family and friends as he purchased 60 tickets for the final for those dearest to him.',\n",
       " '\"My children, my parents, my sister and my team are all there,\" Federer added.',\n",
       " '\"It is always very emotional for me to thank my team.',\n",
       " 'And sometimes it tilts with the emotions, sometimes I just stumble.',\n",
       " '\"It means the world to me.',\n",
       " 'It makes me incredibly happy to win my home tournament and make people happy here.',\n",
       " '\"I do not know if it\\'s maybe my last title, so today I try a lot more to absorb that and enjoy the moments much more consciously.',\n",
       " '\"Maybe I should celebrate as if it were my last title.',\n",
       " '\"There are very touching moments: seeing the ball children, the standing ovations, all the familiar faces in the audience.',\n",
       " 'Because it was not always easy in the last weeks.\"']"
      ]
     },
     "execution_count": 185,
     "metadata": {},
     "output_type": "execute_result"
    }
   ],
   "source": [
    "sentences"
   ]
  },
  {
   "cell_type": "code",
   "execution_count": 186,
   "metadata": {},
   "outputs": [
    {
     "data": {
      "text/plain": [
       "['Maria Sharapova has basically no friends as tennis players on the WTA Tour.',\n",
       " \"The Russian player has no problems in openly speaking about it and in a recent interview she said: 'I don't really hide any feelings too much.\",\n",
       " 'I think everyone knows this is my job here.',\n",
       " \"When I'm on the courts or when I'm on the court playing, I'm a competitor and I want to beat every single person whether they're in the locker room or across the net.So I'm not the one to strike up a conversation about the weather and know that in the next few minutes I have to go and try to win a tennis match.\",\n",
       " \"I'm a pretty competitive girl.\"]"
      ]
     },
     "execution_count": 186,
     "metadata": {},
     "output_type": "execute_result"
    }
   ],
   "source": [
    "sentences[:5]"
   ]
  },
  {
   "cell_type": "code",
   "execution_count": 8,
   "metadata": {},
   "outputs": [
    {
     "name": "stdout",
     "output_type": "stream",
     "text": [
      "--2019-07-24 10:23:37--  http://nlp.stanford.edu/data/glove.6B.zip\n",
      "Resolving nlp.stanford.edu (nlp.stanford.edu)... 171.64.67.140\n",
      "Connecting to nlp.stanford.edu (nlp.stanford.edu)|171.64.67.140|:80... connected.\n",
      "HTTP request sent, awaiting response... 302 Found\n",
      "Location: https://nlp.stanford.edu/data/glove.6B.zip [following]\n",
      "--2019-07-24 10:23:38--  https://nlp.stanford.edu/data/glove.6B.zip\n",
      "Connecting to nlp.stanford.edu (nlp.stanford.edu)|171.64.67.140|:443... connected.\n",
      "HTTP request sent, awaiting response... 301 Moved Permanently\n",
      "Location: http://downloads.cs.stanford.edu/nlp/data/glove.6B.zip [following]\n",
      "--2019-07-24 10:23:40--  http://downloads.cs.stanford.edu/nlp/data/glove.6B.zip\n",
      "Resolving downloads.cs.stanford.edu (downloads.cs.stanford.edu)... 171.64.64.22\n",
      "Connecting to downloads.cs.stanford.edu (downloads.cs.stanford.edu)|171.64.64.22|:80... connected.\n",
      "HTTP request sent, awaiting response... 200 OK\n",
      "Length: 862182613 (822M) [application/zip]\n",
      "Saving to: ‘glove.6B.zip.5’\n",
      "\n",
      "glove.6B.zip.5      100%[===================>] 822.24M  2.31MB/s    in 10m 55s \n",
      "\n",
      "2019-07-24 10:34:37 (1.25 MB/s) - ‘glove.6B.zip.5’ saved [862182613/862182613]\n",
      "\n",
      "Archive:  glove.6B.zip\n",
      "  End-of-central-directory signature not found.  Either this file is not\n",
      "  a zipfile, or it constitutes one disk of a multi-part archive.  In the\n",
      "  latter case the central directory and zipfile comment will be found on\n",
      "  the last disk(s) of this archive.\n",
      "unzip:  cannot find zipfile directory in one of glove.6B.zip or\n",
      "        glove.6B.zip.zip, and cannot find glove.6B.zip.ZIP, period.\n"
     ]
    }
   ],
   "source": [
    "!wget http://nlp.stanford.edu/data/glove.6B.zip\n",
    "!unzip glove*.zip"
   ]
  },
  {
   "cell_type": "code",
   "execution_count": 194,
   "metadata": {},
   "outputs": [],
   "source": [
    "# Extract word vectors\n",
    "word_embeddings = {}\n",
    "f = open('glove.6B.100d.txt')\n",
    "for line in f:\n",
    "    values = line.split()\n",
    "    word = values[0]\n",
    "    coefs = np.asarray(values[1:], dtype='float32')\n",
    "    word_embeddings[word] = coefs\n",
    "f.close()"
   ]
  },
  {
   "cell_type": "code",
   "execution_count": 195,
   "metadata": {},
   "outputs": [
    {
     "data": {
      "text/plain": [
       "400000"
      ]
     },
     "execution_count": 195,
     "metadata": {},
     "output_type": "execute_result"
    }
   ],
   "source": [
    "len(word_embeddings)"
   ]
  },
  {
   "cell_type": "code",
   "execution_count": 196,
   "metadata": {},
   "outputs": [],
   "source": [
    "clear_sent = pd.Series(sentences).str.replace(\"[^a-zA-Z0-9]\",\" \")\n",
    "clean_sentences = [s.lower() for s in clear_sent]"
   ]
  },
  {
   "cell_type": "code",
   "execution_count": 197,
   "metadata": {},
   "outputs": [
    {
     "name": "stderr",
     "output_type": "stream",
     "text": [
      "[nltk_data] Downloading package stopwords to /home/ubantu/nltk_data...\n",
      "[nltk_data]   Package stopwords is already up-to-date!\n"
     ]
    }
   ],
   "source": [
    "nltk.download(\"stopwords\")\n",
    "from nltk.corpus import stopwords"
   ]
  },
  {
   "cell_type": "code",
   "execution_count": 198,
   "metadata": {},
   "outputs": [],
   "source": [
    "stp =stopwords.words(\"english\")"
   ]
  },
  {
   "cell_type": "code",
   "execution_count": 199,
   "metadata": {},
   "outputs": [],
   "source": [
    "def remove_stopwords(sent):\n",
    "    new_sent= \" \".join([i for i in sent if i not in stp])\n",
    "    return(sent)"
   ]
  },
  {
   "cell_type": "code",
   "execution_count": 200,
   "metadata": {},
   "outputs": [],
   "source": [
    "new_sent = [remove_stopwords(s) for s in clean_sentences]"
   ]
  },
  {
   "cell_type": "code",
   "execution_count": null,
   "metadata": {},
   "outputs": [],
   "source": []
  },
  {
   "cell_type": "code",
   "execution_count": 55,
   "metadata": {},
   "outputs": [],
   "source": [
    "sentence_vectors = []\n",
    "for i in new_sent:\n",
    "    if len(i) != 0:\n",
    "        v = sum([word_embeddings.get(w, np.zeros((100,))) for w in i.split()])/(len(i.split())+0.001)\n",
    "    else:\n",
    "        v = np.zeros((100,))\n",
    "    sentence_vectors.append(v)"
   ]
  },
  {
   "cell_type": "code",
   "execution_count": 57,
   "metadata": {},
   "outputs": [
    {
     "data": {
      "text/plain": [
       "119"
      ]
     },
     "execution_count": 57,
     "metadata": {},
     "output_type": "execute_result"
    }
   ],
   "source": [
    "len(sentence_vectors)"
   ]
  },
  {
   "cell_type": "code",
   "execution_count": 73,
   "metadata": {},
   "outputs": [
    {
     "data": {
      "text/plain": [
       "[array([0., 0., 0., 0., 0., 0., 0., 0., 0., 0., 0., 0., 0., 0., 0., 0., 0.,\n",
       "        0., 0., 0., 0., 0., 0., 0., 0., 0., 0., 0., 0., 0., 0., 0., 0., 0.,\n",
       "        0., 0., 0., 0., 0., 0., 0., 0., 0., 0., 0., 0., 0., 0., 0., 0., 0.,\n",
       "        0., 0., 0., 0., 0., 0., 0., 0., 0., 0., 0., 0., 0., 0., 0., 0., 0.,\n",
       "        0., 0., 0., 0., 0., 0., 0., 0., 0., 0., 0., 0., 0., 0., 0., 0., 0.,\n",
       "        0., 0., 0., 0., 0., 0., 0., 0., 0., 0., 0., 0., 0., 0., 0.]),\n",
       " array([-0.54264  ,  0.41476  ,  1.0322   , -0.40244  ,  0.46691  ,\n",
       "         0.21816  , -0.074864 ,  0.47332  ,  0.080996 , -0.22079  ,\n",
       "        -0.12808  , -0.1144   ,  0.50891  ,  0.11568  ,  0.028211 ,\n",
       "        -0.3628   ,  0.43823  ,  0.047511 ,  0.20282  ,  0.49857  ,\n",
       "        -0.10068  ,  0.13269  ,  0.16972  ,  0.11653  ,  0.31355  ,\n",
       "         0.25713  ,  0.092783 , -0.56826  , -0.52975  , -0.051456 ,\n",
       "        -0.67326  ,  0.92533  ,  0.2693   ,  0.22734  ,  0.66365  ,\n",
       "         0.26221  ,  0.19719  ,  0.2609   ,  0.18774  , -0.3454   ,\n",
       "        -0.42635  ,  0.13975  ,  0.56338  , -0.56907  ,  0.12398  ,\n",
       "        -0.12894  ,  0.72484  , -0.26105  , -0.26314  , -0.43605  ,\n",
       "         0.078908 , -0.84146  ,  0.51595  ,  1.3997   , -0.7646   ,\n",
       "        -3.1453   , -0.29202  , -0.31247  ,  1.5129   ,  0.52435  ,\n",
       "         0.21456  ,  0.42452  , -0.088411 , -0.17805  ,  1.1876   ,\n",
       "         0.10579  ,  0.76571  ,  0.21914  ,  0.35824  , -0.11636  ,\n",
       "         0.093261 , -0.62483  , -0.21898  ,  0.21796  ,  0.74056  ,\n",
       "        -0.43735  ,  0.14343  ,  0.14719  , -1.1605   , -0.050508 ,\n",
       "         0.12677  , -0.014395 , -0.98676  , -0.091297 , -1.2054   ,\n",
       "        -0.11974  ,  0.047847 , -0.54001  ,  0.52457  , -0.70963  ,\n",
       "        -0.32528  , -0.1346   , -0.41314  ,  0.33435  , -0.0072412,\n",
       "         0.32253  , -0.044219 , -1.2969   ,  0.76217  ,  0.46349  ],\n",
       "       dtype=float32),\n",
       " array([-0.27086  ,  0.044006 , -0.02026  , -0.17395  ,  0.6444   ,\n",
       "         0.71213  ,  0.3551   ,  0.47138  , -0.29637  ,  0.54427  ,\n",
       "        -0.72294  , -0.0047612,  0.040611 ,  0.043236 ,  0.29729  ,\n",
       "         0.10725  ,  0.40156  , -0.53662  ,  0.033382 ,  0.067396 ,\n",
       "         0.64556  , -0.085523 ,  0.14103  ,  0.094539 ,  0.74947  ,\n",
       "        -0.194    , -0.68739  , -0.41741  , -0.22807  ,  0.12     ,\n",
       "        -0.48999  ,  0.80945  ,  0.045138 , -0.11898  ,  0.20161  ,\n",
       "         0.39276  , -0.20121  ,  0.31354  ,  0.75304  ,  0.25907  ,\n",
       "        -0.11566  , -0.029319 ,  0.93499  , -0.36067  ,  0.5242   ,\n",
       "         0.23706  ,  0.52715  ,  0.22869  , -0.51958  , -0.79349  ,\n",
       "        -0.20368  , -0.50187  ,  0.18748  ,  0.94282  , -0.44834  ,\n",
       "        -3.6792   ,  0.044183 , -0.26751  ,  2.1997   ,  0.241    ,\n",
       "        -0.033425 ,  0.69553  , -0.64472  , -0.0072277,  0.89575  ,\n",
       "         0.20015  ,  0.46493  ,  0.61933  , -0.1066   ,  0.08691  ,\n",
       "        -0.4623   ,  0.18262  , -0.15849  ,  0.020791 ,  0.19373  ,\n",
       "         0.063426 , -0.31673  , -0.48177  , -1.3848   ,  0.13669  ,\n",
       "         0.96859  ,  0.049965 , -0.2738   , -0.035686 , -1.0577   ,\n",
       "        -0.24467  ,  0.90366  , -0.12442  ,  0.080776 , -0.83401  ,\n",
       "         0.57201  ,  0.088945 , -0.42532  , -0.018253 , -0.079995 ,\n",
       "        -0.28581  , -0.01089  , -0.4923   ,  0.63687  ,  0.23642  ],\n",
       "       dtype=float32),\n",
       " array([-0.030769 ,  0.11993  ,  0.53909  , -0.43696  , -0.73937  ,\n",
       "        -0.15345  ,  0.081126 , -0.38559  , -0.68797  , -0.41632  ,\n",
       "        -0.13183  , -0.24922  ,  0.441    ,  0.085919 ,  0.20871  ,\n",
       "        -0.063582 ,  0.062228 , -0.051234 , -0.13398  ,  1.1418   ,\n",
       "         0.036526 ,  0.49029  , -0.24567  , -0.412    ,  0.12349  ,\n",
       "         0.41336  , -0.48397  , -0.54243  , -0.27787  , -0.26015  ,\n",
       "        -0.38485  ,  0.78656  ,  0.1023   , -0.20712  ,  0.40751  ,\n",
       "         0.32026  , -0.51052  ,  0.48362  , -0.0099498, -0.38685  ,\n",
       "         0.034975 , -0.167    ,  0.4237   , -0.54164  , -0.30323  ,\n",
       "        -0.36983  ,  0.082836 , -0.52538  , -0.064531 , -1.398    ,\n",
       "        -0.14873  , -0.35327  , -0.1118   ,  1.0912   ,  0.095864 ,\n",
       "        -2.8129   ,  0.45238  ,  0.46213  ,  1.6012   , -0.20837  ,\n",
       "        -0.27377  ,  0.71197  , -1.0754   , -0.046974 ,  0.67479  ,\n",
       "        -0.065839 ,  0.75824  ,  0.39405  ,  0.15507  , -0.64719  ,\n",
       "         0.32796  , -0.031748 ,  0.52899  , -0.43886  ,  0.67405  ,\n",
       "         0.42136  , -0.11981  , -0.21777  , -0.29756  , -0.1351   ,\n",
       "         0.59898  ,  0.46529  , -0.58258  , -0.02323  , -1.5442   ,\n",
       "         0.01901  , -0.015877 ,  0.024499 , -0.58017  , -0.67659  ,\n",
       "        -0.040379 , -0.44043  ,  0.083292 ,  0.20035  , -0.75499  ,\n",
       "         0.16918  , -0.26573  , -0.52878  ,  0.17584  ,  1.065    ],\n",
       "       dtype=float32),\n",
       " array([ 0.89461 ,  0.37758 ,  0.42067 , -0.51334 , -0.28298 ,  1.0012  ,\n",
       "         0.18748 ,  0.21868 , -0.030053,  0.086727, -0.44626 ,  0.34755 ,\n",
       "         0.61516 ,  0.31583 ,  0.56543 ,  0.40314 ,  0.45648 , -0.39995 ,\n",
       "        -0.20669 ,  0.84975 , -0.016242, -0.28152 , -0.052972, -0.19438 ,\n",
       "         0.35783 ,  0.89044 , -0.92628 , -0.88332 ,  0.089802,  1.3856  ,\n",
       "         0.11884 ,  0.36608 ,  0.44009 ,  0.51617 ,  0.35074 , -0.24373 ,\n",
       "        -0.68049 ,  0.13276 ,  0.78618 , -0.5253  , -0.28546 ,  0.30342 ,\n",
       "         0.23909 , -0.65424 , -0.15926 ,  0.20786 , -0.69262 ,  0.25893 ,\n",
       "         0.65051 , -0.091278, -0.36572 , -0.20873 ,  0.18074 ,  1.156   ,\n",
       "        -0.01657 , -1.9547  , -0.6729  ,  0.029884,  0.93844 ,  0.74598 ,\n",
       "         0.80694 ,  1.0129  , -0.51853 , -0.21152 ,  0.35337 ,  0.047413,\n",
       "         0.75148 ,  0.31402 , -0.42139 ,  0.29954 ,  0.32677 ,  0.12179 ,\n",
       "        -0.19638 ,  0.12719 ,  0.041816,  1.05    ,  0.17703 ,  0.08307 ,\n",
       "        -0.51415 , -0.6523  ,  0.17147 ,  0.37803 ,  0.1107  , -0.25518 ,\n",
       "        -1.0712  , -0.51485 , -0.38163 , -0.42314 ,  0.13503 ,  0.014892,\n",
       "         0.11282 ,  0.26315 ,  0.20852 , -0.016587, -0.40463 , -0.15909 ,\n",
       "        -0.71309 , -0.13668 ,  0.04035 , -0.84151 ], dtype=float32)]"
      ]
     },
     "execution_count": 73,
     "metadata": {},
     "output_type": "execute_result"
    }
   ],
   "source": [
    "j=\"Shobhit is a good boy\"\n",
    "[word_embeddings.get(s,np.zeros((100,))) for s in j.split()]"
   ]
  },
  {
   "cell_type": "code",
   "execution_count": 75,
   "metadata": {},
   "outputs": [
    {
     "data": {
      "text/plain": [
       "array([ 5.03410306e-02,  9.56275981e-01,  1.97169996e+00, -1.52669002e+00,\n",
       "        8.89600217e-02,  1.77803998e+00,  5.48842005e-01,  7.77790010e-01,\n",
       "       -9.33396984e-01, -6.11301512e-03, -1.42911004e+00, -2.08311933e-02,\n",
       "        1.60568100e+00,  5.60664993e-01,  1.09964098e+00,  8.40080008e-02,\n",
       "        1.35849801e+00, -9.40293018e-01, -1.04468003e-01,  2.55751602e+00,\n",
       "        5.65164024e-01,  2.55936973e-01,  1.21079870e-02, -3.95310998e-01,\n",
       "        1.54433998e+00,  1.36692998e+00, -2.00485704e+00, -2.41141996e+00,\n",
       "       -9.45887998e-01,  1.19399398e+00, -1.42925996e+00,  2.88741994e+00,\n",
       "        8.56828019e-01,  4.17410024e-01,  1.62350997e+00,  7.31500015e-01,\n",
       "       -1.19503000e+00,  1.19081999e+00,  1.71701023e+00, -9.98480022e-01,\n",
       "       -7.92494990e-01,  2.46851016e-01,  2.16115999e+00, -2.12561998e+00,\n",
       "        1.85690030e-01, -5.38500249e-02,  6.42205983e-01, -2.98810005e-01,\n",
       "       -1.96740985e-01, -2.71881799e+00, -6.39221996e-01, -1.90532996e+00,\n",
       "        7.72370026e-01,  4.58972007e+00, -1.13364598e+00, -1.15920999e+01,\n",
       "       -4.68357012e-01, -8.79659764e-02,  6.25224012e+00,  1.30296001e+00,\n",
       "        7.14305017e-01,  2.84491995e+00, -2.32706103e+00, -4.43771698e-01,\n",
       "        3.11151004e+00,  2.87513994e-01,  2.74035996e+00,  1.54653999e+00,\n",
       "       -1.46799833e-02, -3.77099961e-01,  2.85691023e-01, -3.52168005e-01,\n",
       "       -4.48600352e-02, -7.29190055e-02,  1.65015597e+00,  1.09743594e+00,\n",
       "       -1.16080001e-01, -4.69279997e-01, -3.35701004e+00, -7.01218002e-01,\n",
       "        1.86581004e+00,  8.78890013e-01, -1.73243998e+00, -4.05393003e-01,\n",
       "       -4.87849998e+00, -8.60250026e-01,  5.53999996e-01, -1.06307097e+00,\n",
       "        1.60206012e-01, -2.20533804e+00,  3.19170970e-01, -2.22934976e-01,\n",
       "       -5.46648003e-01,  4.99859991e-01, -1.24685619e+00,  4.68100160e-02,\n",
       "       -1.03392899e+00, -2.45466003e+00,  1.61523005e+00,  9.23400074e-01])"
      ]
     },
     "execution_count": 75,
     "metadata": {},
     "output_type": "execute_result"
    }
   ],
   "source": [
    "j=\"Shobhit is a good boy\"\n",
    "sum([word_embeddings.get(s,np.zeros((100,))) for s in j.split()])"
   ]
  },
  {
   "cell_type": "code",
   "execution_count": 76,
   "metadata": {},
   "outputs": [],
   "source": [
    "# Similarity matrix\n",
    "sim_matrix = np.zeros((119,119))"
   ]
  },
  {
   "cell_type": "code",
   "execution_count": 79,
   "metadata": {},
   "outputs": [
    {
     "data": {
      "text/plain": [
       "(119, 119)"
      ]
     },
     "execution_count": 79,
     "metadata": {},
     "output_type": "execute_result"
    }
   ],
   "source": [
    "sim_matrix.shape"
   ]
  },
  {
   "cell_type": "code",
   "execution_count": 84,
   "metadata": {},
   "outputs": [],
   "source": [
    "for i in range(119):\n",
    "    for j in range(119):\n",
    "        if i != j:\n",
    "            sim_matrix[i][j] = cosine_similarity(sentence_vectors[i].reshape(1,100), sentence_vectors[j].reshape(1,100))\n"
   ]
  },
  {
   "cell_type": "code",
   "execution_count": 83,
   "metadata": {},
   "outputs": [
    {
     "data": {
      "text/plain": [
       "array([[0.        , 0.88726598, 0.83740002, ..., 0.89178896, 0.85290146,\n",
       "        0.88390237],\n",
       "       [0.88726598, 0.        , 0.92565334, ..., 0.9499433 , 0.93488741,\n",
       "        0.96679443],\n",
       "       [0.83740002, 0.92565334, 0.        , ..., 0.94383979, 0.87909085,\n",
       "        0.90166336],\n",
       "       ...,\n",
       "       [0.89178896, 0.9499433 , 0.94383979, ..., 0.        , 0.9224717 ,\n",
       "        0.96141666],\n",
       "       [0.85290146, 0.93488741, 0.87909085, ..., 0.9224717 , 0.        ,\n",
       "        0.93247139],\n",
       "       [0.88390237, 0.96679443, 0.90166336, ..., 0.96141666, 0.93247139,\n",
       "        0.        ]])"
      ]
     },
     "execution_count": 83,
     "metadata": {},
     "output_type": "execute_result"
    }
   ],
   "source": [
    "sim_matrix"
   ]
  },
  {
   "cell_type": "code",
   "execution_count": 90,
   "metadata": {},
   "outputs": [],
   "source": [
    "import networkx as nx\n",
    "\n",
    "nx_graph = nx.from_numpy_array(sim_matrix)\n",
    "scores = nx.pagerank(nx_graph)"
   ]
  },
  {
   "cell_type": "code",
   "execution_count": 91,
   "metadata": {},
   "outputs": [
    {
     "data": {
      "text/plain": [
       "{0: 0.008347325221534776,\n",
       " 1: 0.008526524885382775,\n",
       " 2: 0.008051929532960153,\n",
       " 3: 0.00873867212015731,\n",
       " 4: 0.007863696511143181,\n",
       " 5: 0.008351342831305302,\n",
       " 6: 0.008378672423996574,\n",
       " 7: 0.008558005846003948,\n",
       " 8: 0.008518137122462858,\n",
       " 9: 0.00847109690067102,\n",
       " 10: 0.008393414917223781,\n",
       " 11: 0.008525212898954778,\n",
       " 12: 0.008078366284595764,\n",
       " 13: 0.008398373296022277,\n",
       " 14: 0.00839708659279284,\n",
       " 15: 0.008529361673806114,\n",
       " 16: 0.008302838778345187,\n",
       " 17: 0.008001511065113938,\n",
       " 18: 0.008417273863512192,\n",
       " 19: 0.008543213735772572,\n",
       " 20: 0.008554958449268932,\n",
       " 21: 0.008327900956628798,\n",
       " 22: 0.008131453441231116,\n",
       " 23: 0.008518592266033298,\n",
       " 24: 0.008400000877119985,\n",
       " 25: 0.007635469031910654,\n",
       " 26: 0.008320970003855864,\n",
       " 27: 0.008493318553056798,\n",
       " 28: 0.008592037625942751,\n",
       " 29: 0.00865596523110366,\n",
       " 30: 0.008732391041883765,\n",
       " 31: 0.008553677197779497,\n",
       " 32: 0.008339056323003077,\n",
       " 33: 0.008458268407974597,\n",
       " 34: 0.008620837111621104,\n",
       " 35: 0.00857114116533974,\n",
       " 36: 0.008142200387603415,\n",
       " 37: 0.008541239693162634,\n",
       " 38: 0.008721531431547632,\n",
       " 39: 0.008676042806259932,\n",
       " 40: 0.008319440476197447,\n",
       " 41: 0.00813473563824073,\n",
       " 42: 0.008213698934629728,\n",
       " 43: 0.008380304417923897,\n",
       " 44: 0.008536229151141833,\n",
       " 45: 0.00850544861709756,\n",
       " 46: 0.008629719901576875,\n",
       " 47: 0.007890061109540433,\n",
       " 48: 0.00797616891435292,\n",
       " 49: 0.008283647593271517,\n",
       " 50: 0.006837952618080456,\n",
       " 51: 0.00846436178825313,\n",
       " 52: 0.008532046701702422,\n",
       " 53: 0.00842729108634776,\n",
       " 54: 0.008617347820454936,\n",
       " 55: 0.008127309010550888,\n",
       " 56: 0.008645079521010323,\n",
       " 57: 0.008219944072801105,\n",
       " 58: 0.008625861462790348,\n",
       " 59: 0.008577436402214318,\n",
       " 60: 0.008475835536799639,\n",
       " 61: 0.008568419470405202,\n",
       " 62: 0.008596449800961388,\n",
       " 63: 0.008246963492917906,\n",
       " 64: 0.008548008983262561,\n",
       " 65: 0.00837742442983872,\n",
       " 66: 0.008690310325474172,\n",
       " 67: 0.00836876784239418,\n",
       " 68: 0.008687322965971214,\n",
       " 69: 0.008517213694723098,\n",
       " 70: 0.00863763000117812,\n",
       " 71: 0.008267450828513332,\n",
       " 72: 0.00840909511530407,\n",
       " 73: 0.0085758352570826,\n",
       " 74: 0.00840170871508074,\n",
       " 75: 0.008426183681472466,\n",
       " 76: 0.008496645515193413,\n",
       " 77: 0.008481771641530654,\n",
       " 78: 0.008602920358710789,\n",
       " 79: 0.00856378104496619,\n",
       " 80: 0.008505322743102315,\n",
       " 81: 0.008514202674350772,\n",
       " 82: 0.00849101486123028,\n",
       " 83: 0.008572378860282821,\n",
       " 84: 0.008637117504998173,\n",
       " 85: 0.0085987492907195,\n",
       " 86: 0.008384851603022088,\n",
       " 87: 0.008268794874667338,\n",
       " 88: 0.008535717966080991,\n",
       " 89: 0.005955704170932384,\n",
       " 90: 0.008580727413491404,\n",
       " 91: 0.008601781775689613,\n",
       " 92: 0.008658966119703916,\n",
       " 93: 0.008400869906808833,\n",
       " 94: 0.008137646133360162,\n",
       " 95: 0.008400762750042607,\n",
       " 96: 0.008322783704285809,\n",
       " 97: 0.008509548806229977,\n",
       " 98: 0.008574100835706311,\n",
       " 99: 0.007916622329321762,\n",
       " 100: 0.008486414000237396,\n",
       " 101: 0.008495269935950895,\n",
       " 102: 0.008590560915838864,\n",
       " 103: 0.00859462618084776,\n",
       " 104: 0.008561936977468583,\n",
       " 105: 0.008455719985843832,\n",
       " 106: 0.008654195283785394,\n",
       " 107: 0.008506554200241073,\n",
       " 108: 0.008483561845753296,\n",
       " 109: 0.008583281334992015,\n",
       " 110: 0.008201042796423063,\n",
       " 111: 0.008350205609527593,\n",
       " 112: 0.008208893408339836,\n",
       " 113: 0.00852336875441139,\n",
       " 114: 0.008412962092970228,\n",
       " 115: 0.008480225904986712,\n",
       " 116: 0.008558108117894531,\n",
       " 117: 0.008373853419769572,\n",
       " 118: 0.008648622466647196}"
      ]
     },
     "execution_count": 91,
     "metadata": {},
     "output_type": "execute_result"
    }
   ],
   "source": [
    "scores"
   ]
  },
  {
   "cell_type": "code",
   "execution_count": 92,
   "metadata": {},
   "outputs": [],
   "source": [
    "ranked_sentences = sorted(((scores[i],s) for i,s in enumerate(sentences)), reverse=True)"
   ]
  },
  {
   "cell_type": "code",
   "execution_count": null,
   "metadata": {},
   "outputs": [],
   "source": []
  },
  {
   "cell_type": "code",
   "execution_count": 94,
   "metadata": {},
   "outputs": [],
   "source": [
    "# Starting on our own sentences"
   ]
  },
  {
   "cell_type": "code",
   "execution_count": 266,
   "metadata": {},
   "outputs": [],
   "source": [
    "senr = df[\"article_text\"][1]"
   ]
  },
  {
   "cell_type": "code",
   "execution_count": 267,
   "metadata": {},
   "outputs": [],
   "source": [
    "sentt = sent_tokenize(senr)"
   ]
  },
  {
   "cell_type": "code",
   "execution_count": 260,
   "metadata": {},
   "outputs": [],
   "source": [
    "sent = sent_tokenize(senr)"
   ]
  },
  {
   "cell_type": "code",
   "execution_count": 261,
   "metadata": {},
   "outputs": [],
   "source": [
    "sent =pd.Series(sent).str.replace(\"[^A-Za-z0-9.-]\",\" \")"
   ]
  },
  {
   "cell_type": "code",
   "execution_count": 262,
   "metadata": {},
   "outputs": [],
   "source": [
    "sent = sent[0]"
   ]
  },
  {
   "cell_type": "code",
   "execution_count": null,
   "metadata": {},
   "outputs": [],
   "source": []
  },
  {
   "cell_type": "code",
   "execution_count": 205,
   "metadata": {},
   "outputs": [],
   "source": [
    "\n",
    "sent = [s.lower() for s in sent]"
   ]
  },
  {
   "cell_type": "code",
   "execution_count": 206,
   "metadata": {},
   "outputs": [
    {
     "data": {
      "text/plain": [
       "['basel  switzerland  ap   roger federer advanced to the 14th swiss indoors final of his career by beating seventh-seeded daniil medvedev 6-1  6-4 on saturday.',\n",
       " 'seeking a ninth title at his hometown event  and a 99th overall  federer will play 93th-ranked marius copil on sunday.',\n",
       " 'federer dominated the 20th-ranked medvedev and had his first match-point chance to break serve again at 5-1.',\n",
       " 'he then dropped his serve to love  and let another match point slip in medvedev s next service game by netting a backhand.',\n",
       " 'he clinched on his fourth chance when medvedev netted from the baseline.',\n",
       " 'copil upset expectations of a federer final against alexander zverev in a 6-3  6-7  6   6-4 win over the fifth-ranked german in the earlier semifinal.',\n",
       " 'the romanian aims for a first title after arriving at basel without a career win over a top-10 opponent.',\n",
       " 'copil has two after also beating no.',\n",
       " '6 marin cilic in the second round.',\n",
       " 'copil fired 26 aces past zverev and never dropped serve  clinching after 2 1 2 hours with a forehand volley winner to break zverev for the second time in the semifinal.',\n",
       " 'he came through two rounds of qualifying last weekend to reach the basel main draw  including beating zverev s older brother  mischa.',\n",
       " 'federer had an easier time than in his only previous match against medvedev  a three-setter at shanghai two weeks ago.']"
      ]
     },
     "execution_count": 206,
     "metadata": {},
     "output_type": "execute_result"
    }
   ],
   "source": [
    "sent"
   ]
  },
  {
   "cell_type": "code",
   "execution_count": 207,
   "metadata": {},
   "outputs": [],
   "source": [
    "def remove_stp(se):\n",
    "    new_sent=\" \".join([i for i in se.split() if i not in stp])\n",
    "    return(new_sent)"
   ]
  },
  {
   "cell_type": "code",
   "execution_count": 208,
   "metadata": {},
   "outputs": [],
   "source": [
    "new_sent =[remove_stp(s) for s in sent]"
   ]
  },
  {
   "cell_type": "code",
   "execution_count": 209,
   "metadata": {},
   "outputs": [
    {
     "data": {
      "text/plain": [
       "['basel switzerland ap roger federer advanced 14th swiss indoors final career beating seventh-seeded daniil medvedev 6-1 6-4 saturday.',\n",
       " 'seeking ninth title hometown event 99th overall federer play 93th-ranked marius copil sunday.',\n",
       " 'federer dominated 20th-ranked medvedev first match-point chance break serve 5-1.',\n",
       " 'dropped serve love let another match point slip medvedev next service game netting backhand.',\n",
       " 'clinched fourth chance medvedev netted baseline.',\n",
       " 'copil upset expectations federer final alexander zverev 6-3 6-7 6 6-4 win fifth-ranked german earlier semifinal.',\n",
       " 'romanian aims first title arriving basel without career win top-10 opponent.',\n",
       " 'copil two also beating no.',\n",
       " '6 marin cilic second round.',\n",
       " 'copil fired 26 aces past zverev never dropped serve clinching 2 1 2 hours forehand volley winner break zverev second time semifinal.',\n",
       " 'came two rounds qualifying last weekend reach basel main draw including beating zverev older brother mischa.',\n",
       " 'federer easier time previous match medvedev three-setter shanghai two weeks ago.']"
      ]
     },
     "execution_count": 209,
     "metadata": {},
     "output_type": "execute_result"
    }
   ],
   "source": [
    "new_sent"
   ]
  },
  {
   "cell_type": "code",
   "execution_count": 214,
   "metadata": {},
   "outputs": [],
   "source": [
    "sentence_vect=[]\n",
    "for i in new_sent:\n",
    "    if(len(i)!=0):\n",
    "        v =sum([word_embeddings.get(w, np.zeros((100,))) for w in i.split()])/len(i.split())+0.001\n",
    "    else:\n",
    "        v= np.zeros((100,))\n",
    "    sentence_vect.append(v)"
   ]
  },
  {
   "cell_type": "code",
   "execution_count": 221,
   "metadata": {},
   "outputs": [],
   "source": [
    "simi_mat=np.zeros((12,12))"
   ]
  },
  {
   "cell_type": "code",
   "execution_count": null,
   "metadata": {},
   "outputs": [],
   "source": []
  },
  {
   "cell_type": "code",
   "execution_count": 224,
   "metadata": {},
   "outputs": [],
   "source": [
    "for i in range(12):\n",
    "    for j in range(12):\n",
    "        if(i!=j):\n",
    "            simi_mat[i][j] = cosine_similarity(sentence_vect[i].reshape(1,100),sentence_vect[j].reshape(1,100))"
   ]
  },
  {
   "cell_type": "code",
   "execution_count": null,
   "metadata": {},
   "outputs": [],
   "source": [
    "import networkx as nx\n",
    "\n",
    "nx_graph = nx.from_numpy_array(sim_matrix)\n",
    "scores = nx.pagerank(nx_graph)"
   ]
  },
  {
   "cell_type": "code",
   "execution_count": 231,
   "metadata": {},
   "outputs": [],
   "source": [
    "import networkx as nx\n",
    "nx_graph = nx.from_numpy_array(simi_mat)\n",
    "scor =nx.pagerank(nx_graph)"
   ]
  },
  {
   "cell_type": "code",
   "execution_count": 250,
   "metadata": {},
   "outputs": [
    {
     "data": {
      "text/plain": [
       "{0: 0.08158759184953603,\n",
       " 1: 0.08381389285225274,\n",
       " 2: 0.08691784029201734,\n",
       " 3: 0.0842700658677753,\n",
       " 4: 0.08087134998436062,\n",
       " 5: 0.08138445672344073,\n",
       " 6: 0.08405850418491362,\n",
       " 7: 0.08465251656535268,\n",
       " 8: 0.07360369254027656,\n",
       " 9: 0.0870496956660244,\n",
       " 10: 0.08522218036475583,\n",
       " 11: 0.08656821310929409}"
      ]
     },
     "execution_count": 250,
     "metadata": {},
     "output_type": "execute_result"
    }
   ],
   "source": [
    "scor"
   ]
  },
  {
   "cell_type": "code",
   "execution_count": null,
   "metadata": {},
   "outputs": [],
   "source": [
    "sorted((senr[]))"
   ]
  },
  {
   "cell_type": "code",
   "execution_count": 268,
   "metadata": {},
   "outputs": [],
   "source": [
    "ranked_sentences = sorted(((scor[i],s) for i,s in enumerate(sentt)), reverse=True)"
   ]
  },
  {
   "cell_type": "code",
   "execution_count": 271,
   "metadata": {},
   "outputs": [
    {
     "name": "stdout",
     "output_type": "stream",
     "text": [
      "Copil fired 26 aces past Zverev and never dropped serve, clinching after 2 1/2 hours with a forehand volley winner to break Zverev for the second time in the semifinal.\n",
      "Federer dominated the 20th-ranked Medvedev and had his first match-point chance to break serve again at 5-1.\n",
      "Federer had an easier time than in his only previous match against Medvedev, a three-setter at Shanghai two weeks ago.\n",
      "He came through two rounds of qualifying last weekend to reach the Basel main draw, including beating Zverev's older brother, Mischa.\n",
      "Copil has two after also beating No.\n",
      "He then dropped his serve to love, and let another match point slip in Medvedev's next service game by netting a backhand.\n",
      "The Romanian aims for a first title after arriving at Basel without a career win over a top-10 opponent.\n",
      "Seeking a ninth title at his hometown event, and a 99th overall, Federer will play 93th-ranked Marius Copil on Sunday.\n"
     ]
    }
   ],
   "source": [
    "for i in range(0,8):\n",
    "    print(ranked_sentences[i][1])"
   ]
  },
  {
   "cell_type": "code",
   "execution_count": null,
   "metadata": {},
   "outputs": [],
   "source": []
  }
 ],
 "metadata": {
  "kernelspec": {
   "display_name": "Python 3",
   "language": "python",
   "name": "python3"
  },
  "language_info": {
   "codemirror_mode": {
    "name": "ipython",
    "version": 2
   },
   "file_extension": ".py",
   "mimetype": "text/x-python",
   "name": "python",
   "nbconvert_exporter": "python",
   "pygments_lexer": "ipython2",
   "version": "2.7.15"
  }
 },
 "nbformat": 4,
 "nbformat_minor": 2
}
